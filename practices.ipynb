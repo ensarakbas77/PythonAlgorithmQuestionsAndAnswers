{
 "cells": [
  {
   "cell_type": "markdown",
   "id": "d286ea4b-3259-45f3-b212-d2a95332b08c",
   "metadata": {},
   "source": [
    "1. Reverse a string.\n",
    "2. Check if a number is prime.\n",
    "3. Find the factorial of a number.\n",
    "4. Check if a string is a palindrome.\n",
    "5. Count the frequency of each character in a string.\n",
    "6. Find the maximum value in a list without using max().\n",
    "7. Find duplicates in a list.\n",
    "8. Anagram Kontrolü: İki kelimenin anagram olup olmadığını kontrol eden bir fonksiyon yaz.\n",
    "9. Benzersiz Elemanlar: Bir listedeki yalnızca bir kez görülen elemanları döndüren bir fonksiyon yaz.\n",
    "10. Sayıyı Ters Çevir: Pozitif bir tam sayıyı ters çevirip döndüren bir fonksiyon yaz.\n",
    "11. Bubble Sort kullanarak bir listeyi sırala.\n",
    "12. enumerate() kullanımı"
   ]
  },
  {
   "cell_type": "code",
   "execution_count": 1,
   "id": "7c0ca228-51a3-4280-8e87-f3d60b2600b6",
   "metadata": {},
   "outputs": [
    {
     "name": "stdout",
     "output_type": "stream",
     "text": [
      "***** Reverse a string (1) *****\n",
      "String lenght is : 11\n",
      "ensar akbaş\n",
      "\n",
      "***** Reverse a string (2) *****\n",
      "Indicies:\n",
      "10\n",
      "9\n",
      "8\n",
      "7\n",
      "6\n",
      "5\n",
      "4\n",
      "3\n",
      "2\n",
      "1\n",
      "0\n",
      "ensar akbaş\n"
     ]
    }
   ],
   "source": [
    "# Reverse a string.\n",
    "    # First way\n",
    "print(\"***** Reverse a string (1) *****\")\n",
    "string = \"şabka rasne\" \n",
    "print(\"String lenght is :\",len(string))\n",
    "print(string[::-1])\n",
    "print()\n",
    "\n",
    "    # Second way --> deepseekten incele\n",
    "print(\"***** Reverse a string (2) *****\")\n",
    "reverse_text = \"\"\n",
    "print(\"Indicies:\")\n",
    "for i in range(len(string)-1,-1,-1):\n",
    "    print(i)\n",
    "    reverse_text += string[i]\n",
    "    \n",
    "print(reverse_text)"
   ]
  },
  {
   "cell_type": "code",
   "execution_count": 2,
   "id": "06755590-82c7-4a1c-bada-60e9401c298a",
   "metadata": {},
   "outputs": [
    {
     "name": "stdout",
     "output_type": "stream",
     "text": [
      "Square root of a number:  3.3166247903554\n",
      "2\n",
      "3\n",
      "11 is a prime\n"
     ]
    }
   ],
   "source": [
    "# Check if a number is prime.\n",
    "import math\n",
    "\n",
    "def isPrime(x):\n",
    "    isPrime = True\n",
    "    sqrt = math.sqrt(x)\n",
    "    print(\"Square root of a number: \", sqrt)\n",
    "    for i in range(2, int(sqrt)+1):\n",
    "        print(i)\n",
    "        if x % i == 0:\n",
    "            isPrime = False\n",
    "    \n",
    "    return isPrime\n",
    "    \n",
    "\n",
    "x = 11\n",
    "if isPrime(x):\n",
    "    print(f\"{x} is a prime\")\n",
    "else:\n",
    "    print(f\"{x} is not a prime\")\n"
   ]
  },
  {
   "cell_type": "code",
   "execution_count": 3,
   "id": "cc8ecc9b-8833-4609-9b7d-65ebf3d9afd4",
   "metadata": {},
   "outputs": [
    {
     "name": "stdout",
     "output_type": "stream",
     "text": [
      "5! = 120\n",
      "5! = 120\n"
     ]
    }
   ],
   "source": [
    "# Find the factorial of a number.\n",
    "    # First Way\n",
    "def factorial(n):\n",
    "    fac = 1\n",
    "    for i in range(1,n+1):\n",
    "        fac *= i\n",
    "    return fac\n",
    "\n",
    "num = 5\n",
    "print(f\"{num}! =\",factorial(num))\n",
    "\n",
    "\n",
    "    # Seconde Way (Recursive)\n",
    "def recursiveFactorial(n):\n",
    "    if n == 0 or n==1 :\n",
    "        return 1\n",
    "    return n * recursiveFactorial(n-1)\n",
    "\n",
    "number = 5\n",
    "print(f\"{number}! =\",factorial(number))"
   ]
  },
  {
   "cell_type": "code",
   "execution_count": 4,
   "id": "d64cf4e7-4619-4c9a-8e9d-248177730135",
   "metadata": {},
   "outputs": [
    {
     "name": "stdout",
     "output_type": "stream",
     "text": [
      "***** Palindrome (1) *****\n",
      "Kazak is a palindrome\n",
      "\n",
      "***** Palindrome (2) *****\n",
      "4\n",
      "3\n",
      "2\n",
      "1\n",
      "0\n",
      "Kazak is a palindrome\n"
     ]
    }
   ],
   "source": [
    "# Check if a string is a palindrome.\n",
    "    # First Way\n",
    "def palindrome(string):\n",
    "    string = string.lower()\n",
    "    isPalindrome = True\n",
    "    reverse = string[::-1]\n",
    "    if reverse != string:\n",
    "        isPalindrome = False\n",
    "    return isPalindrome\n",
    "        \n",
    "word = \"Kazak\"\n",
    "\n",
    "print(\"***** Palindrome (1) *****\")\n",
    "if palindrome(word):\n",
    "    print(f\"{word} is a palindrome\")\n",
    "else:\n",
    "    print(f\"{word} isn't a palindorme\")\n",
    "print()\n",
    "\n",
    "    # Second Way\n",
    "def iteratifPalindrome(string):\n",
    "    string = string.lower()\n",
    "    isPalindrome = True\n",
    "    reverse_text = \"\"\n",
    "    lenght = len(string)\n",
    "    for i in range(lenght-1, -1, -1):\n",
    "        print(i)\n",
    "        reverse_text += string[i]\n",
    "        \n",
    "    if reverse_text != string:\n",
    "        isPalindrome = False\n",
    "\n",
    "    return isPalindrome\n",
    "    \n",
    "print(\"***** Palindrome (2) *****\")\n",
    "if iteratifPalindrome(word):\n",
    "    print(f\"{word} is a palindrome\")\n",
    "else:\n",
    "    print(f\"{word} isn't a palindorme\")"
   ]
  },
  {
   "cell_type": "code",
   "execution_count": 2,
   "id": "ad4d83ed-4ddf-43d3-90fb-5f56c9197976",
   "metadata": {},
   "outputs": [],
   "source": [
    "# Count the frequency of each character in a string.\n",
    "\n",
    "def frequency(string):\n",
    "    pass\n",
    "\n",
    "sentence = \"Ensar\" \n",
    "frequency(sentence)"
   ]
  },
  {
   "cell_type": "code",
   "execution_count": 24,
   "id": "b77c7b48-2432-4fd4-8a60-784549b48016",
   "metadata": {},
   "outputs": [
    {
     "name": "stdout",
     "output_type": "stream",
     "text": [
      "without max(): 41\n",
      "with max(): 41\n"
     ]
    }
   ],
   "source": [
    "# Find the maximum value in a list without using max().\n",
    "def findMaxValue(value):\n",
    "    max_value = value[0]\n",
    "    for i in range(len(value)):\n",
    "        if value[i] > max_value:\n",
    "            max_value = value[i]\n",
    "\n",
    "    return max_value\n",
    "\n",
    "my_list = [10,25,16,33,22,41]\n",
    "print(\"without max():\",findMaxValue(my_list))\n",
    "print(\"with max():\",max(my_list))"
   ]
  },
  {
   "cell_type": "code",
   "execution_count": 19,
   "id": "f864d320-072c-4055-9ceb-627a1ef7a2cc",
   "metadata": {},
   "outputs": [
    {
     "name": "stdout",
     "output_type": "stream",
     "text": [
      "1\n",
      "1\n",
      "2\n",
      "3\n",
      "4\n",
      "5\n",
      "5\n"
     ]
    },
    {
     "data": {
      "text/plain": [
       "[1, 5]"
      ]
     },
     "execution_count": 19,
     "metadata": {},
     "output_type": "execute_result"
    }
   ],
   "source": [
    "# Find duplicates in a list. !!!\n",
    "\n",
    "def duplicates(arr):\n",
    "    new_arr1 = set() # gördüklerim\n",
    "    new_arr2 = set() # tekrar edenler\n",
    "    \n",
    "    for eleman in arr:\n",
    "        print(eleman)\n",
    "        if eleman in new_arr1:\n",
    "            new_arr2.add(eleman)\n",
    "        else:\n",
    "            new_arr1.add(eleman)\n",
    "        \n",
    "    return list(new_arr2)\n",
    "    \n",
    "myList = [1,1,2,3,4,5,5]\n",
    "duplicates(myList)"
   ]
  },
  {
   "cell_type": "markdown",
   "id": "f079583a-f90f-4014-95c9-34ed35360c2e",
   "metadata": {},
   "source": [
    "# Adım adım örnek anlatım:\n",
    "\n",
    "Liste: [1, 1, 2, 3, 4, 5, 5]\n",
    "\n",
    "Başlangıç:\n",
    "\n",
    "*gorduklerim* = {} (boş set)\n",
    "\n",
    "*tekrar_edenler* = {} (boş set)\n",
    "\n",
    "1 gelir → *gorduklerim* içinde yok → ekle:\n",
    "\n",
    "*gorduklerim* = {1}\n",
    "\n",
    "1 tekrar gelir → gorduklerim içinde var → *tekrar_edenlere* ekle:\n",
    "\n",
    "*tekrar_edenler* = {1}\n",
    "\n",
    "2 gelir → yok → *gorduklerim* = {1, 2}\n",
    "\n",
    "3 gelir → yok → *gorduklerim* = {1, 2, 3}\n",
    "\n",
    "4 gelir → yok → *gorduklerim* = {1, 2, 3, 4}\n",
    "\n",
    "5 gelir → yok → *gorduklerim* = {1, 2, 3, 4, 5}\n",
    "\n",
    "5 tekrar gelir → var → *tekrar_edenler* = {1, 5}"
   ]
  },
  {
   "cell_type": "code",
   "execution_count": 8,
   "id": "a3cb069f-5b9b-4123-98ba-99a2056b8374",
   "metadata": {},
   "outputs": [],
   "source": [
    "# Anagram Kontrolü: İki kelimenin anagram olup olmadığını kontrol eden bir fonksiyon yaz.\n",
    "# Anagram, bir sözcüğün veya sözcük grubunun harflerinin değişik düzenle başka bir sözcüğü veya sözcük grubunu oluşturmasıdır. \n",
    "# Özge – göze, Bahri - ihbar vb.\n",
    "\n",
    "def isAnagram(str1, str2):\n",
    "    pass\n",
    "\n",
    "kelime1 = \"özgü\"\n",
    "kelime2 = \"özge\""
   ]
  },
  {
   "cell_type": "code",
   "execution_count": 9,
   "id": "410a476f-fd76-4878-992b-279cb4526343",
   "metadata": {},
   "outputs": [],
   "source": [
    "# Benzersiz Elemanlar: Bir listedeki yalnızca bir kez görülen elemanları döndüren bir fonksiyon yaz.\n",
    "\n",
    "def isUnique(arr):\n",
    "    pass\n",
    "\n",
    "listem = [1,2,3,3,4,5,6,6]\n",
    "isUnique(listem)"
   ]
  },
  {
   "cell_type": "code",
   "execution_count": 10,
   "id": "50004379-7c54-4c47-b7fc-0a9fd32c088a",
   "metadata": {},
   "outputs": [],
   "source": [
    "# Sayıyı Ters Çevir: Pozitif bir tam sayıyı ters çevirip döndüren bir fonksiyon yaz.\n",
    "# 123 --> 321, 1097 --> 7901\n",
    "\n",
    "def reverseNumber(num):\n",
    "    pass\n",
    "\n"
   ]
  },
  {
   "cell_type": "code",
   "execution_count": null,
   "id": "79a1d271-971d-4c0a-8ed6-45ec264c07b0",
   "metadata": {},
   "outputs": [],
   "source": [
    "# Sort the list with Bubble Sort --> []\n",
    "\n",
    "def bubbleSort(arr):\n",
    "    pass\n",
    "\n",
    "new_list = []\n",
    "bubbleSort(new_list)"
   ]
  },
  {
   "cell_type": "code",
   "execution_count": 37,
   "id": "59976599-5650-473b-9dd0-72908638745c",
   "metadata": {},
   "outputs": [
    {
     "name": "stdout",
     "output_type": "stream",
     "text": [
      "1. eleman: Ekmek\n",
      "2. eleman: Süt\n",
      "3. eleman: Yumurta\n",
      "4. eleman: Peynir\n",
      "---------------------\n",
      "1. Ekmek\n",
      "2. Süt\n",
      "3. Yumurta\n",
      "4. Peynir\n"
     ]
    }
   ],
   "source": [
    "# First Way\n",
    "alisveris_listesi = [\"Ekmek\", \"Süt\", \"Yumurta\", \"Peynir\"]\n",
    "\n",
    "for i in range(len(alisveris_listesi)):\n",
    "    print(f\"{i+1}. eleman:\", alisveris_listesi[i])\n",
    "\n",
    "print(\"---------------------\")\n",
    "\n",
    "# Seconde Way (with enumerate())\n",
    "for sira, urun in enumerate(alisveris_listesi): # ,start=1 de denebilir o zaman index 1'den başlar\n",
    "    print(f\"{sira+1}.\", urun)\n",
    "\n",
    "# enumerate() sayesinde hem indeks hem eleman tek seferde geliyor."
   ]
  },
  {
   "cell_type": "code",
   "execution_count": null,
   "id": "959a3c64-5147-40a2-a4c7-5e42dfa20131",
   "metadata": {},
   "outputs": [],
   "source": []
  }
 ],
 "metadata": {
  "kernelspec": {
   "display_name": "Python 3 (ipykernel)",
   "language": "python",
   "name": "python3"
  },
  "language_info": {
   "codemirror_mode": {
    "name": "ipython",
    "version": 3
   },
   "file_extension": ".py",
   "mimetype": "text/x-python",
   "name": "python",
   "nbconvert_exporter": "python",
   "pygments_lexer": "ipython3",
   "version": "3.13.5"
  }
 },
 "nbformat": 4,
 "nbformat_minor": 5
}
