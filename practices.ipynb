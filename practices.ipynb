{
 "cells": [
  {
   "cell_type": "markdown",
   "id": "d286ea4b-3259-45f3-b212-d2a95332b08c",
   "metadata": {},
   "source": [
    "1. Reverse a string.\n",
    "2. Check if a number is prime.\n",
    "3. Find the factorial of a number.\n",
    "4. Check if a string is a palindrome.\n",
    "5. Count the frequency of each character in a string.\n",
    "6. Find the maximum value in a list without using max().\n",
    "7. Find duplicates in a list.\n",
    "8. Anagram Kontrolü: İki kelimenin anagram olup olmadığını kontrol eden bir fonksiyon yaz.\n",
    "9. Benzersiz Elemanlar: Bir listedeki yalnızca bir kez görülen elemanları döndüren bir fonksiyon yaz.\n",
    "10. Sayıyı Ters Çevir: Pozitif bir tam sayıyı ters çevirip döndüren bir fonksiyon yaz.\n",
    "11. Bubble Sort kullanarak bir listeyi sırala.\n",
    "12. enumerate() kullanımı"
   ]
  },
  {
   "cell_type": "code",
   "execution_count": 1,
   "id": "7c0ca228-51a3-4280-8e87-f3d60b2600b6",
   "metadata": {},
   "outputs": [
    {
     "name": "stdout",
     "output_type": "stream",
     "text": [
      "***** Reverse a string (1) *****\n",
      "String lenght is : 11\n",
      "ensar akbaş\n",
      "\n",
      "***** Reverse a string (2) *****\n",
      "Indicies:\n",
      "10\n",
      "9\n",
      "8\n",
      "7\n",
      "6\n",
      "5\n",
      "4\n",
      "3\n",
      "2\n",
      "1\n",
      "0\n",
      "ensar akbaş\n"
     ]
    }
   ],
   "source": [
    "# Reverse a string.\n",
    "    # First way\n",
    "print(\"***** Reverse a string (1) *****\")\n",
    "string = \"şabka rasne\" \n",
    "print(\"String lenght is :\",len(string))\n",
    "print(string[::-1])\n",
    "print()\n",
    "\n",
    "    # Second way --> deepseekten incele\n",
    "print(\"***** Reverse a string (2) *****\")\n",
    "reverse_text = \"\"\n",
    "print(\"Indicies:\")\n",
    "for i in range(len(string)-1,-1,-1):\n",
    "    print(i)\n",
    "    reverse_text += string[i]\n",
    "    \n",
    "print(reverse_text)"
   ]
  },
  {
   "cell_type": "code",
   "execution_count": 2,
   "id": "06755590-82c7-4a1c-bada-60e9401c298a",
   "metadata": {},
   "outputs": [
    {
     "name": "stdout",
     "output_type": "stream",
     "text": [
      "Square root of a number:  3.3166247903554\n",
      "2\n",
      "3\n",
      "11 is a prime\n"
     ]
    }
   ],
   "source": [
    "# Check if a number is prime.\n",
    "import math\n",
    "\n",
    "def isPrime(x):\n",
    "    isPrime = True\n",
    "    sqrt = math.sqrt(x)\n",
    "    print(\"Square root of a number: \", sqrt)\n",
    "    for i in range(2, int(sqrt)+1):\n",
    "        print(i)\n",
    "        if x % i == 0:\n",
    "            isPrime = False\n",
    "    \n",
    "    return isPrime\n",
    "    \n",
    "\n",
    "x = 11\n",
    "if isPrime(x):\n",
    "    print(f\"{x} is a prime\")\n",
    "else:\n",
    "    print(f\"{x} is not a prime\")\n"
   ]
  },
  {
   "cell_type": "code",
   "execution_count": 3,
   "id": "cc8ecc9b-8833-4609-9b7d-65ebf3d9afd4",
   "metadata": {},
   "outputs": [
    {
     "name": "stdout",
     "output_type": "stream",
     "text": [
      "5! = 120\n",
      "5! = 120\n"
     ]
    }
   ],
   "source": [
    "# Find the factorial of a number.\n",
    "    # First Way\n",
    "def factorial(n):\n",
    "    fac = 1\n",
    "    for i in range(1,n+1):\n",
    "        fac *= i\n",
    "    return fac\n",
    "\n",
    "num = 5\n",
    "print(f\"{num}! =\",factorial(num))\n",
    "\n",
    "\n",
    "    # Seconde Way (Recursive)\n",
    "def recursiveFactorial(n):\n",
    "    if n == 0 or n==1 :\n",
    "        return 1\n",
    "    return n * recursiveFactorial(n-1)\n",
    "\n",
    "number = 5\n",
    "print(f\"{number}! =\",factorial(number))"
   ]
  },
  {
   "cell_type": "code",
   "execution_count": 4,
   "id": "d64cf4e7-4619-4c9a-8e9d-248177730135",
   "metadata": {},
   "outputs": [
    {
     "name": "stdout",
     "output_type": "stream",
     "text": [
      "***** Palindrome (1) *****\n",
      "Kazak is a palindrome\n",
      "\n",
      "***** Palindrome (2) *****\n",
      "4\n",
      "3\n",
      "2\n",
      "1\n",
      "0\n",
      "Kazak is a palindrome\n"
     ]
    }
   ],
   "source": [
    "# Check if a string is a palindrome.\n",
    "    # First Way\n",
    "def palindrome(string):\n",
    "    string = string.lower()\n",
    "    isPalindrome = True\n",
    "    reverse = string[::-1]\n",
    "    if reverse != string:\n",
    "        isPalindrome = False\n",
    "    return isPalindrome\n",
    "        \n",
    "word = \"Kazak\"\n",
    "\n",
    "print(\"***** Palindrome (1) *****\")\n",
    "if palindrome(word):\n",
    "    print(f\"{word} is a palindrome\")\n",
    "else:\n",
    "    print(f\"{word} isn't a palindorme\")\n",
    "print()\n",
    "\n",
    "    # Second Way\n",
    "def iteratifPalindrome(string):\n",
    "    string = string.lower()\n",
    "    isPalindrome = True\n",
    "    reverse_text = \"\"\n",
    "    lenght = len(string)\n",
    "    for i in range(lenght-1, -1, -1):\n",
    "        print(i)\n",
    "        reverse_text += string[i]\n",
    "        \n",
    "    if reverse_text != string:\n",
    "        isPalindrome = False\n",
    "\n",
    "    return isPalindrome\n",
    "    \n",
    "print(\"***** Palindrome (2) *****\")\n",
    "if iteratifPalindrome(word):\n",
    "    print(f\"{word} is a palindrome\")\n",
    "else:\n",
    "    print(f\"{word} isn't a palindorme\")"
   ]
  },
  {
   "cell_type": "code",
   "execution_count": 18,
   "id": "ad4d83ed-4ddf-43d3-90fb-5f56c9197976",
   "metadata": {},
   "outputs": [
    {
     "name": "stdout",
     "output_type": "stream",
     "text": [
      "{'e': 2, 'n': 2, 's': 2, 'a': 2, 'r': 2}\n",
      "---------------------------------------------------\n",
      "Counter({'e': 2, 'n': 2, 's': 2, 'a': 2, 'r': 2})\n"
     ]
    }
   ],
   "source": [
    "# Count the frequency of each character in a string.\n",
    "from collections import Counter\n",
    "\n",
    "    # First Way\n",
    "def frequency(string):\n",
    "    freq = {}\n",
    "    for char in string:\n",
    "        if char in freq:\n",
    "            freq[char] += 1\n",
    "        else:\n",
    "            freq[char] = 1\n",
    "            \n",
    "    return freq\n",
    "\n",
    "    # Seconde Way\n",
    "def frequency_pythonic(s: str):\n",
    "    return Counter(s)\n",
    "\n",
    "    \n",
    "sentence = \"ensarensar\" \n",
    "print(frequency(sentence))\n",
    "print(\"---------------------------------------------------\")\n",
    "print(frequency_pythonic(sentence))\n"
   ]
  },
  {
   "cell_type": "code",
   "execution_count": 6,
   "id": "b77c7b48-2432-4fd4-8a60-784549b48016",
   "metadata": {},
   "outputs": [
    {
     "name": "stdout",
     "output_type": "stream",
     "text": [
      "without max(): 41\n",
      "with max(): 41\n"
     ]
    }
   ],
   "source": [
    "# Find the maximum value in a list without using max().\n",
    "def findMaxValue(value):\n",
    "    max_value = value[0]\n",
    "    for i in range(len(value)):\n",
    "        if value[i] > max_value:\n",
    "            max_value = value[i]\n",
    "\n",
    "    return max_value\n",
    "\n",
    "my_list = [10,25,16,33,22,41]\n",
    "print(\"without max():\",findMaxValue(my_list))\n",
    "print(\"with max():\",max(my_list))"
   ]
  },
  {
   "cell_type": "markdown",
   "id": "14daefa9-211d-41c3-b308-136e76b3e03c",
   "metadata": {},
   "source": [
    "# Adım adım örnek anlatım:\n",
    "\n",
    "Liste: [1, 1, 2, 3, 4, 5, 5]\n",
    "\n",
    "Başlangıç:\n",
    "\n",
    "*gorduklerim* = {} (boş set)\n",
    "\n",
    "*tekrar_edenler* = {} (boş set)\n",
    "\n",
    "1 gelir → *gorduklerim* içinde yok → ekle:\n",
    "\n",
    "*gorduklerim* = {1}\n",
    "\n",
    "1 tekrar gelir → gorduklerim içinde var → *tekrar_edenlere* ekle:\n",
    "\n",
    "*tekrar_edenler* = {1}\n",
    "\n",
    "2 gelir → yok → *gorduklerim* = {1, 2}\n",
    "\n",
    "3 gelir → yok → *gorduklerim* = {1, 2, 3}\n",
    "\n",
    "4 gelir → yok → *gorduklerim* = {1, 2, 3, 4}\n",
    "\n",
    "5 gelir → yok → *gorduklerim* = {1, 2, 3, 4, 5}\n",
    "\n",
    "5 tekrar gelir → var → *tekrar_edenler* = {1, 5}"
   ]
  },
  {
   "cell_type": "code",
   "execution_count": 2,
   "id": "f864d320-072c-4055-9ceb-627a1ef7a2cc",
   "metadata": {},
   "outputs": [
    {
     "name": "stdout",
     "output_type": "stream",
     "text": [
      "1\n",
      "1\n",
      "2\n",
      "3\n",
      "4\n",
      "5\n",
      "5\n",
      "[1, 5]\n",
      "\n",
      "-----------------------------------\n",
      "\n",
      "[1, 5, 3, 2]\n"
     ]
    }
   ],
   "source": [
    "# Find duplicates in a list. !!!\n",
    "\n",
    "def duplicates(arr):\n",
    "    new_arr1 = set() # gördüklerim\n",
    "    new_arr2 = set() # tekrar edenler\n",
    "    \n",
    "    for eleman in arr:\n",
    "        print(eleman)\n",
    "        if eleman in new_arr1:\n",
    "            new_arr2.add(eleman)\n",
    "        else:\n",
    "            new_arr1.add(eleman)\n",
    "        \n",
    "    return list(new_arr2)\n",
    "    \n",
    "myList = [1,1,2,3,4,5,5]\n",
    "print(duplicates(myList))\n",
    "\n",
    "print()\n",
    "print(\"-----------------------------------\")\n",
    "print()\n",
    "\n",
    "def duplicates_without_set(arr):\n",
    "    gorduklerim = []\n",
    "    tekrarlar = []\n",
    "\n",
    "    for eleman in arr:\n",
    "        if eleman not in gorduklerim:\n",
    "            gorduklerim.append(eleman)\n",
    "        elif eleman not in tekrarlar:\n",
    "            tekrarlar.append(eleman)\n",
    "    \n",
    "    return tekrarlar\n",
    "\n",
    "myList = [1, 1, 2, 3, 4, 5, 5, 3, 2]\n",
    "print(duplicates_without_set(myList))"
   ]
  },
  {
   "cell_type": "code",
   "execution_count": null,
   "id": "a3cb069f-5b9b-4123-98ba-99a2056b8374",
   "metadata": {},
   "outputs": [],
   "source": [
    "# Anagram Kontrolü: İki kelimenin anagram olup olmadığını kontrol eden bir fonksiyon yaz.\n",
    "# Anagram, bir sözcüğün veya sözcük grubunun harflerinin değişik düzenle başka bir sözcüğü veya sözcük grubunu oluşturmasıdır. \n",
    "# Özge – göze, Bahri - ihbar vb.\n",
    "\n",
    "def isAnagram(str1, str2):\n",
    "    pass\n",
    "\n",
    "kelime1 = \"özgü\"\n",
    "kelime2 = \"özge\""
   ]
  },
  {
   "cell_type": "code",
   "execution_count": 1,
   "id": "410a476f-fd76-4878-992b-279cb4526343",
   "metadata": {},
   "outputs": [
    {
     "name": "stdout",
     "output_type": "stream",
     "text": [
      "Dictionary: {1: 1, 2: 1, 3: 2, 4: 1, 5: 3, 6: 4}\n",
      "Keys: 1 --- Values: 1\n",
      "Keys: 2 --- Values: 1\n",
      "Keys: 3 --- Values: 2\n",
      "Keys: 4 --- Values: 1\n",
      "Keys: 5 --- Values: 3\n",
      "Keys: 6 --- Values: 4\n"
     ]
    },
    {
     "data": {
      "text/plain": [
       "[1, 2, 4]"
      ]
     },
     "execution_count": 1,
     "metadata": {},
     "output_type": "execute_result"
    }
   ],
   "source": [
    "# Benzersiz Elemanlar: Bir listedeki yalnızca bir kez görülen elemanları döndüren bir fonksiyon yaz.\n",
    "\n",
    "def isUnique(arr):\n",
    "    counts = {}\n",
    "    not_duplice = []\n",
    "    \n",
    "    for i in arr:\n",
    "        if i in counts:\n",
    "            counts[i] += 1\n",
    "        else:\n",
    "            counts[i] = 1\n",
    "            \n",
    "    print(\"Dictionary:\",counts)\n",
    "    \n",
    "    for x,y in counts.items():\n",
    "        print(\"Keys:\", x, \"---\", \"Values:\", y)\n",
    "\n",
    "        if y == 1:\n",
    "            not_duplice.append(x)\n",
    "\n",
    "    return not_duplice\n",
    "\n",
    "\n",
    "listem = [1,2,3,3,4,5,5,5,6,6,6,6]\n",
    "isUnique(listem)"
   ]
  },
  {
   "cell_type": "code",
   "execution_count": null,
   "id": "50004379-7c54-4c47-b7fc-0a9fd32c088a",
   "metadata": {},
   "outputs": [],
   "source": [
    "# Sayıyı Ters Çevir: Pozitif bir tam sayıyı ters çevirip döndüren bir fonksiyon yaz.\n",
    "# 123 --> 321, 1097 --> 7901\n",
    "\n",
    "def reverseNumber(num):\n",
    "    pass\n",
    "\n"
   ]
  },
  {
   "cell_type": "code",
   "execution_count": null,
   "id": "59976599-5650-473b-9dd0-72908638745c",
   "metadata": {},
   "outputs": [],
   "source": [
    "# Work with enumerate()\n",
    "\n",
    "# First Way\n",
    "alisveris_listesi = [\"Ekmek\", \"Süt\", \"Yumurta\", \"Peynir\"]\n",
    "\n",
    "for i in range(len(alisveris_listesi)):\n",
    "    print(f\"{i+1}. eleman:\", alisveris_listesi[i])\n",
    "\n",
    "print(\"---------------------\")\n",
    "\n",
    "# Seconde Way (with enumerate())\n",
    "for sira, urun in enumerate(alisveris_listesi): # ,start=1 de denebilir o zaman index 1'den başlar\n",
    "    print(f\"{sira+1}.\", urun)\n",
    "\n",
    "# enumerate() sayesinde hem indeks hem eleman tek seferde geliyor."
   ]
  },
  {
   "cell_type": "code",
   "execution_count": null,
   "id": "fa50f861-4036-4b4a-a0ff-9f3847923a7e",
   "metadata": {},
   "outputs": [],
   "source": [
    "# Sort the list with Bubble Sort --> []\n",
    "\n",
    "def bubbleSort(arr):\n",
    "    for i in range(0, len(arr)+1):\n",
    "        for j in range(0, len(arr)-1-i):\n",
    "            if arr[j] > arr[j+1]:\n",
    "                temp = arr[j]\n",
    "                arr[j+1] = arr[j]\n",
    "                arr[j+1] = temp\n",
    "    return arr\n",
    "            \n",
    "new_list = [5,2,10,3,7,11,6,8,1]\n",
    "bubbleSort(new_list)"
   ]
  },
  {
   "cell_type": "code",
   "execution_count": 17,
   "id": "ae64310a-d472-4a53-9dd9-7ece969d66d4",
   "metadata": {},
   "outputs": [
    {
     "name": "stdout",
     "output_type": "stream",
     "text": [
      "Unsorted list is:\n",
      "[39, 12, 18, 85, 72, 10, 2, 18]\n",
      "Sorted list is:\n",
      "[2, 10, 12, 18, 18, 39, 72, 85]\n"
     ]
    }
   ],
   "source": [
    "def bubble_sort(arr):\n",
    "  \n",
    "    # Outer loop to iterate through the list n times\n",
    "    for n in range(len(arr) - 1, 0, -1):\n",
    "        \n",
    "        # Initialize swapped to track if any swaps occur\n",
    "        swapped = False  \n",
    "\n",
    "        # Inner loop to compare adjacent elements\n",
    "        for i in range(n):\n",
    "            if arr[i] > arr[i + 1]:\n",
    "              \n",
    "                # Swap elements if they are in the wrong order\n",
    "                arr[i], arr[i + 1] = arr[i + 1], arr[i]\n",
    "                \n",
    "                # Mark that a swap has occurred\n",
    "                swapped = True\n",
    "        \n",
    "        # If no swaps occurred, the list is already sorted\n",
    "        if not swapped:\n",
    "            break\n",
    "\n",
    "\n",
    "# Sample list to be sorted\n",
    "arr = [39, 12, 18, 85, 72, 10, 2, 18]\n",
    "print(\"Unsorted list is:\")\n",
    "print(arr)\n",
    "\n",
    "bubble_sort(arr)\n",
    "\n",
    "print(\"Sorted list is:\")\n",
    "print(arr)"
   ]
  },
  {
   "cell_type": "code",
   "execution_count": 18,
   "id": "686cdcd2-d917-4e28-b5c3-217f15e373de",
   "metadata": {},
   "outputs": [
    {
     "name": "stdout",
     "output_type": "stream",
     "text": [
      "4\n",
      "3\n",
      "2\n",
      "1\n"
     ]
    }
   ],
   "source": [
    "for n in range(5 - 1, 0, -1):\n",
    "    print(n)"
   ]
  },
  {
   "cell_type": "code",
   "execution_count": 19,
   "id": "ba1edaf5-b19b-4bfa-8ecd-328c0c7c13e8",
   "metadata": {},
   "outputs": [
    {
     "name": "stdout",
     "output_type": "stream",
     "text": [
      "[5, 11, 12, 22, 25, 34, 64, 90]\n",
      "[3, 7, 9, 11, 12]\n"
     ]
    }
   ],
   "source": [
    "# https://www.w3schools.com/python/python_dsa_bubblesort.asp\n",
    "\n",
    "# https://realpython.com/sorting-algorithms-python/\n",
    "\n",
    "mylist = [64, 34, 25, 12, 22, 11, 90, 5]\n",
    "\n",
    "n = len(mylist)\n",
    "for i in range(n-1):\n",
    "  for j in range(n-i-1):\n",
    "    if mylist[j] > mylist[j+1]:\n",
    "      mylist[j], mylist[j+1] = mylist[j+1], mylist[j]\n",
    "\n",
    "print(mylist)\n",
    "\n",
    "\n",
    "mylist = [7, 3, 9, 12, 11]\n",
    "\n",
    "n = len(mylist)\n",
    "for i in range(n-1):\n",
    "  swapped = False\n",
    "  for j in range(n-i-1):\n",
    "    if mylist[j] > mylist[j+1]:\n",
    "      mylist[j], mylist[j+1] = mylist[j+1], mylist[j]\n",
    "      swapped = True\n",
    "  if not swapped:\n",
    "    break\n",
    "\n",
    "print(mylist)"
   ]
  },
  {
   "cell_type": "code",
   "execution_count": null,
   "id": "02554d3d-57ab-4044-8282-a17273f3e0b2",
   "metadata": {},
   "outputs": [],
   "source": [
    "# nested loops\n",
    "\n",
    "# https://www.tutorialspoint.com/python/python_nested_loops.htm\n",
    "\n",
    "# https://www.geeksforgeeks.org/python/python-nested-loops/\n",
    "\n",
    "# https://www.w3schools.com/python/gloss_python_for_nested.asp\n",
    "\n",
    "\n",
    "for i in range(0, 5):\n",
    "    print(\"***\",i)\n",
    "    for j in range(0, i):\n",
    "        print(j)"
   ]
  }
 ],
 "metadata": {
  "kernelspec": {
   "display_name": "Python 3 (ipykernel)",
   "language": "python",
   "name": "python3"
  },
  "language_info": {
   "codemirror_mode": {
    "name": "ipython",
    "version": 3
   },
   "file_extension": ".py",
   "mimetype": "text/x-python",
   "name": "python",
   "nbconvert_exporter": "python",
   "pygments_lexer": "ipython3",
   "version": "3.13.5"
  }
 },
 "nbformat": 4,
 "nbformat_minor": 5
}
