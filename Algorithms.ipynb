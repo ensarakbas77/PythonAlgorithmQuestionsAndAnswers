{
 "cells": [
  {
   "cell_type": "markdown",
   "id": "aa82e6b4-184f-4b80-91d8-4d06a5a59a1b",
   "metadata": {},
   "source": [
    "# Split Strings\n",
    "String'i iki karakterden oluşan çiftlere bölecek şekilde çözümü tamamlayın. String tek sayıda karakter içeriyorsa, son çiftin eksik ikinci karakterini bir alt çizgi ('_') ile değiştirmelidir.\n",
    "\n",
    "Örneğin:\n",
    "\n",
    "* 'abc' =>  ['ab', 'c_']\n",
    "* 'abcdef' => ['ab', 'cd', 'ef']"
   ]
  },
  {
   "cell_type": "code",
   "execution_count": 1,
   "id": "ca17c2bc-234a-4aa3-8001-1e22031e7fde",
   "metadata": {},
   "outputs": [],
   "source": [
    "def solution(s:str):\n",
    "    uzunluk = len(s)\n",
    "    my_list = []\n",
    "    if uzunluk % 2 != 0:\n",
    "        s += \"_\"\n",
    "        print(s)\n",
    "\n",
    "    for i in range(0, uzunluk, 2):\n",
    "        my_list.append(s[i:i+2])\n",
    "        \n",
    "    print(\"My List:\",my_list)\n",
    "    return my_list"
   ]
  },
  {
   "cell_type": "code",
   "execution_count": 2,
   "id": "37b3bd32-35b5-4210-9a58-7600a6f11d72",
   "metadata": {},
   "outputs": [
    {
     "name": "stdout",
     "output_type": "stream",
     "text": [
      "abc_\n",
      "My List: ['ab', 'c_']\n",
      "['ab', 'c_']\n"
     ]
    }
   ],
   "source": [
    "print(solution(\"abc\"))"
   ]
  },
  {
   "cell_type": "code",
   "execution_count": 3,
   "id": "1fe8eab0-f3a2-4ed4-84c8-3bd1416379a7",
   "metadata": {},
   "outputs": [
    {
     "name": "stdout",
     "output_type": "stream",
     "text": [
      "My List: ['ab', 'cd', 'ef']\n",
      "['ab', 'cd', 'ef']\n"
     ]
    }
   ],
   "source": [
    "print(solution(\"abcdef\"))"
   ]
  },
  {
   "cell_type": "code",
   "execution_count": null,
   "id": "3ed83794-18ed-4c3d-b33c-17e58f671f1d",
   "metadata": {},
   "outputs": [],
   "source": [
    "# next question = https://www.codewars.com/kata/5262119038c0985a5b00029f/train/python"
   ]
  },
  {
   "cell_type": "code",
   "execution_count": null,
   "id": "82506a0c-8a5c-45ea-a4f0-e4d01f43da72",
   "metadata": {},
   "outputs": [],
   "source": []
  },
  {
   "cell_type": "code",
   "execution_count": null,
   "id": "aa136634-8f0a-4e4b-9788-e28250d2a86e",
   "metadata": {},
   "outputs": [],
   "source": []
  }
 ],
 "metadata": {
  "kernelspec": {
   "display_name": "Python 3 (ipykernel)",
   "language": "python",
   "name": "python3"
  },
  "language_info": {
   "codemirror_mode": {
    "name": "ipython",
    "version": 3
   },
   "file_extension": ".py",
   "mimetype": "text/x-python",
   "name": "python",
   "nbconvert_exporter": "python",
   "pygments_lexer": "ipython3",
   "version": "3.13.5"
  }
 },
 "nbformat": 4,
 "nbformat_minor": 5
}
