{
 "cells": [
  {
   "cell_type": "markdown",
   "id": "aa82e6b4-184f-4b80-91d8-4d06a5a59a1b",
   "metadata": {},
   "source": [
    "# Split Strings\n",
    "String'i iki karakterden oluşan çiftlere bölecek şekilde çözümü tamamlayın. String tek sayıda karakter içeriyorsa, son çiftin eksik ikinci karakterini bir alt çizgi ('_') ile değiştirmelidir.\n",
    "\n",
    "Örneğin:\n",
    "\n",
    "* 'abc' =>  ['ab', 'c_']\n",
    "* 'abcdef' => ['ab', 'cd', 'ef']"
   ]
  },
  {
   "cell_type": "code",
   "execution_count": 1,
   "id": "ca17c2bc-234a-4aa3-8001-1e22031e7fde",
   "metadata": {},
   "outputs": [],
   "source": [
    "def solution(s:str):\n",
    "    uzunluk = len(s)\n",
    "    my_list = []\n",
    "    if uzunluk % 2 != 0:\n",
    "        s += \"_\"\n",
    "        print(s)\n",
    "\n",
    "    for i in range(0, uzunluk, 2):\n",
    "        my_list.append(s[i:i+2])\n",
    "        \n",
    "    print(\"My List:\",my_list)\n",
    "    return my_list"
   ]
  },
  {
   "cell_type": "code",
   "execution_count": 2,
   "id": "37b3bd32-35b5-4210-9a58-7600a6f11d72",
   "metadata": {},
   "outputs": [
    {
     "name": "stdout",
     "output_type": "stream",
     "text": [
      "abc_\n",
      "My List: ['ab', 'c_']\n",
      "['ab', 'c_']\n"
     ]
    }
   ],
   "source": [
    "print(solution(\"abc\"))"
   ]
  },
  {
   "cell_type": "code",
   "execution_count": 3,
   "id": "1fe8eab0-f3a2-4ed4-84c8-3bd1416379a7",
   "metadata": {},
   "outputs": [
    {
     "name": "stdout",
     "output_type": "stream",
     "text": [
      "My List: ['ab', 'cd', 'ef']\n",
      "['ab', 'cd', 'ef']\n"
     ]
    }
   ],
   "source": [
    "print(solution(\"abcdef\"))"
   ]
  },
  {
   "cell_type": "markdown",
   "id": "125519be-b146-4cf8-912b-2e9e10fef87a",
   "metadata": {},
   "source": [
    "# Is a number prime?\n",
    "Bir tamsayı argümanı alan ve tamsayının asal olup olmadığına bağlı olarak true veya false mantıksal değerini döndüren bir fonksiyon tanımlayın.\n",
    "\n",
    "Wikipedia'ya göre, asal sayı (veya asal), 1 ve kendisinden başka pozitif böleni olmayan 1'den büyük bir doğal sayıdır.\n",
    "\n",
    "Gereksinimler\n",
    "Bir tamsayı girdisi verileceğini varsayabilirsiniz.\n",
    "Tamsayının sadece pozitif olacağını varsayamazsınız. Negatif sayılar (veya 0) da verilebilir.\n",
    "Performansla ilgili NOT: Özel optimizasyonlara gerek yoktur, ancak yine de en basit çözümler zaman aşımına uğrayabilir. Sayılar 2^31'e kadar çıkar (veya dile bağlı olarak benzer bir değere). n veya n/2'ye kadar döngü yapmak çok yavaş olacaktır."
   ]
  },
  {
   "cell_type": "code",
   "execution_count": 34,
   "id": "82506a0c-8a5c-45ea-a4f0-e4d01f43da72",
   "metadata": {},
   "outputs": [],
   "source": [
    "import math\n",
    "\n",
    "def is_prime(num):\n",
    "    is_prime = True\n",
    "    \n",
    "    if num <= 1:\n",
    "        return False\n",
    "\n",
    "    for i in range(2, int(math.sqrt(num)+1)):\n",
    "        if num % i == 0:\n",
    "            is_prime = False\n",
    "            \n",
    "    return is_prime"
   ]
  },
  {
   "cell_type": "code",
   "execution_count": 37,
   "id": "aa136634-8f0a-4e4b-9788-e28250d2a86e",
   "metadata": {},
   "outputs": [
    {
     "name": "stdout",
     "output_type": "stream",
     "text": [
      "Number is a prime\n"
     ]
    }
   ],
   "source": [
    "if is_prime(19):\n",
    "    print(\"Number is a prime\")\n",
    "else: \n",
    "    print(\"Number isn't a prime\")"
   ]
  },
  {
   "cell_type": "code",
   "execution_count": null,
   "id": "9235dbd0-6b2a-407b-a606-3ff6cf43f8e1",
   "metadata": {},
   "outputs": [],
   "source": [
    "# https://www.codewars.com/kata/54b42f9314d9229fd6000d9c/train/python"
   ]
  },
  {
   "cell_type": "code",
   "execution_count": null,
   "id": "abbff95a-f36a-439e-804a-f5d7b0ffa006",
   "metadata": {},
   "outputs": [],
   "source": []
  },
  {
   "cell_type": "code",
   "execution_count": null,
   "id": "4298810d-12d6-487e-a30e-e0e300b9d661",
   "metadata": {},
   "outputs": [],
   "source": []
  }
 ],
 "metadata": {
  "kernelspec": {
   "display_name": "Python 3 (ipykernel)",
   "language": "python",
   "name": "python3"
  },
  "language_info": {
   "codemirror_mode": {
    "name": "ipython",
    "version": 3
   },
   "file_extension": ".py",
   "mimetype": "text/x-python",
   "name": "python",
   "nbconvert_exporter": "python",
   "pygments_lexer": "ipython3",
   "version": "3.13.5"
  }
 },
 "nbformat": 4,
 "nbformat_minor": 5
}
